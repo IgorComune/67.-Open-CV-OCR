{
 "cells": [
  {
   "cell_type": "code",
   "execution_count": null,
   "id": "8c6ffd21",
   "metadata": {},
   "outputs": [],
   "source": [
    "!mkdir tessdata"
   ]
  },
  {
   "cell_type": "code",
   "execution_count": null,
   "id": "d9f36a1d",
   "metadata": {},
   "outputs": [],
   "source": [
    "!wget -O ./tessdata/por.traineddata https://github.com/tesseract-ocr/tessdata/blob/main/por.traineddata?raw=true\n",
    "!wget -O ./tessdata/eng.traineddata https://github.com/tesseract-ocr/tessdata/blob/main/eng.traineddata?raw=true"
   ]
  },
  {
   "cell_type": "code",
   "execution_count": null,
   "id": "2a85cbbf",
   "metadata": {},
   "outputs": [],
   "source": [
    "config_tesseract = '--tessdata-dir tessdata'\n",
    "texto = pytesseract.image_to_string(rgb, lang='por', config=config_tesseract)\n",
    "print(texto)"
   ]
  },
  {
   "cell_type": "code",
   "execution_count": null,
   "id": "efb4bffc",
   "metadata": {},
   "outputs": [],
   "source": [
    "!ls tessdata/"
   ]
  }
 ],
 "metadata": {
  "kernelspec": {
   "display_name": "Python 3 (ipykernel)",
   "language": "python",
   "name": "python3"
  },
  "language_info": {
   "codemirror_mode": {
    "name": "ipython",
    "version": 3
   },
   "file_extension": ".py",
   "mimetype": "text/x-python",
   "name": "python",
   "nbconvert_exporter": "python",
   "pygments_lexer": "ipython3",
   "version": "3.9.13"
  }
 },
 "nbformat": 4,
 "nbformat_minor": 5
}
